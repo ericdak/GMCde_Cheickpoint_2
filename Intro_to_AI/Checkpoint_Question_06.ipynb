{
 "cells": [
  {
   "cell_type": "code",
   "execution_count": 14,
   "id": "1f563170",
   "metadata": {},
   "outputs": [
    {
     "name": "stdout",
     "output_type": "stream",
     "text": [
      "Original array 1\n",
      "[0 1 2]\n",
      "Original array 2\n",
      "[2 1 0]\n",
      "Covariance of the two arrays: [[ 1. -1.]\n",
      " [-1.  1.]]\n"
     ]
    }
   ],
   "source": [
    "import numpy as np\n",
    "a= np.array([0,1,2])\n",
    "print(\"Original array 1\")\n",
    "print(a)\n",
    "b= np.array([2,1,0])\n",
    "print(\"Original array 2\")\n",
    "print(b)\n",
    "print(\"Covariance of the two arrays:\",np.cov(a, b))"
   ]
  },
  {
   "cell_type": "code",
   "execution_count": null,
   "id": "a93337de",
   "metadata": {},
   "outputs": [],
   "source": []
  }
 ],
 "metadata": {
  "kernelspec": {
   "display_name": "Python 3 (ipykernel)",
   "language": "python",
   "name": "python3"
  },
  "language_info": {
   "codemirror_mode": {
    "name": "ipython",
    "version": 3
   },
   "file_extension": ".py",
   "mimetype": "text/x-python",
   "name": "python",
   "nbconvert_exporter": "python",
   "pygments_lexer": "ipython3",
   "version": "3.9.13"
  }
 },
 "nbformat": 4,
 "nbformat_minor": 5
}
