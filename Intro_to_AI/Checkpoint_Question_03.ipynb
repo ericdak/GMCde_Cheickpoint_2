{
 "cells": [
  {
   "cell_type": "code",
   "execution_count": 9,
   "id": "578a0dac",
   "metadata": {},
   "outputs": [
    {
     "name": "stdout",
     "output_type": "stream",
     "text": [
      "{1: 1, 2: 4, 3: 9, 4: 16, 5: 25, 6: 36, 7: 49, 8: 64}\n"
     ]
    }
   ],
   "source": [
    "def squares(n):\n",
    "\n",
    "    dict={}\n",
    "\n",
    "    for i in range(1, n + 1):\n",
    "        dict[i] = i * i\n",
    "    return dict\n",
    "print(squares(8))"
   ]
  }
 ],
 "metadata": {
  "kernelspec": {
   "display_name": "Python 3 (ipykernel)",
   "language": "python",
   "name": "python3"
  },
  "language_info": {
   "codemirror_mode": {
    "name": "ipython",
    "version": 3
   },
   "file_extension": ".py",
   "mimetype": "text/x-python",
   "name": "python",
   "nbconvert_exporter": "python",
   "pygments_lexer": "ipython3",
   "version": "3.9.13"
  }
 },
 "nbformat": 4,
 "nbformat_minor": 5
}
